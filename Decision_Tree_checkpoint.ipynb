{
 "cells": [
  {
   "cell_type": "code",
   "execution_count": 44,
   "metadata": {},
   "outputs": [],
   "source": [
    "%matplotlib inline\n",
    "\n",
    "import pandas as pd\n",
    "import numpy as np\n",
    "import seaborn as sns\n",
    "import matplotlib.pyplot as plt\n",
    "import scipy.stats as st"
   ]
  },
  {
   "cell_type": "code",
   "execution_count": 28,
   "metadata": {},
   "outputs": [
    {
     "data": {
      "text/html": [
       "<div>\n",
       "<style scoped>\n",
       "    .dataframe tbody tr th:only-of-type {\n",
       "        vertical-align: middle;\n",
       "    }\n",
       "\n",
       "    .dataframe tbody tr th {\n",
       "        vertical-align: top;\n",
       "    }\n",
       "\n",
       "    .dataframe thead th {\n",
       "        text-align: right;\n",
       "    }\n",
       "</style>\n",
       "<table border=\"1\" class=\"dataframe\">\n",
       "  <thead>\n",
       "    <tr style=\"text-align: right;\">\n",
       "      <th></th>\n",
       "      <th>PassengerId</th>\n",
       "      <th>Survived</th>\n",
       "      <th>Pclass</th>\n",
       "      <th>Name</th>\n",
       "      <th>Sex</th>\n",
       "      <th>Age</th>\n",
       "      <th>SibSp</th>\n",
       "      <th>Parch</th>\n",
       "      <th>Ticket</th>\n",
       "      <th>Fare</th>\n",
       "      <th>Cabin</th>\n",
       "      <th>Embarked</th>\n",
       "    </tr>\n",
       "  </thead>\n",
       "  <tbody>\n",
       "    <tr>\n",
       "      <th>0</th>\n",
       "      <td>343</td>\n",
       "      <td>No</td>\n",
       "      <td>2</td>\n",
       "      <td>Collander, Mr. Erik Gustaf</td>\n",
       "      <td>male</td>\n",
       "      <td>28.0</td>\n",
       "      <td>0</td>\n",
       "      <td>0</td>\n",
       "      <td>248740</td>\n",
       "      <td>13.0000</td>\n",
       "      <td>NaN</td>\n",
       "      <td>S</td>\n",
       "    </tr>\n",
       "    <tr>\n",
       "      <th>1</th>\n",
       "      <td>76</td>\n",
       "      <td>No</td>\n",
       "      <td>3</td>\n",
       "      <td>Moen, Mr. Sigurd Hansen</td>\n",
       "      <td>male</td>\n",
       "      <td>25.0</td>\n",
       "      <td>0</td>\n",
       "      <td>0</td>\n",
       "      <td>348123</td>\n",
       "      <td>7.6500</td>\n",
       "      <td>F G73</td>\n",
       "      <td>S</td>\n",
       "    </tr>\n",
       "    <tr>\n",
       "      <th>2</th>\n",
       "      <td>641</td>\n",
       "      <td>No</td>\n",
       "      <td>3</td>\n",
       "      <td>Jensen, Mr. Hans Peder</td>\n",
       "      <td>male</td>\n",
       "      <td>20.0</td>\n",
       "      <td>0</td>\n",
       "      <td>0</td>\n",
       "      <td>350050</td>\n",
       "      <td>7.8542</td>\n",
       "      <td>NaN</td>\n",
       "      <td>S</td>\n",
       "    </tr>\n",
       "    <tr>\n",
       "      <th>3</th>\n",
       "      <td>568</td>\n",
       "      <td>No</td>\n",
       "      <td>3</td>\n",
       "      <td>Palsson, Mrs. Nils (Alma Cornelia Berglund)</td>\n",
       "      <td>female</td>\n",
       "      <td>29.0</td>\n",
       "      <td>0</td>\n",
       "      <td>4</td>\n",
       "      <td>349909</td>\n",
       "      <td>21.0750</td>\n",
       "      <td>NaN</td>\n",
       "      <td>S</td>\n",
       "    </tr>\n",
       "    <tr>\n",
       "      <th>4</th>\n",
       "      <td>672</td>\n",
       "      <td>No</td>\n",
       "      <td>1</td>\n",
       "      <td>Davidson, Mr. Thornton</td>\n",
       "      <td>male</td>\n",
       "      <td>31.0</td>\n",
       "      <td>1</td>\n",
       "      <td>0</td>\n",
       "      <td>F.C. 12750</td>\n",
       "      <td>52.0000</td>\n",
       "      <td>B71</td>\n",
       "      <td>S</td>\n",
       "    </tr>\n",
       "  </tbody>\n",
       "</table>\n",
       "</div>"
      ],
      "text/plain": [
       "   PassengerId Survived  Pclass                                         Name  \\\n",
       "0          343       No       2                   Collander, Mr. Erik Gustaf   \n",
       "1           76       No       3                      Moen, Mr. Sigurd Hansen   \n",
       "2          641       No       3                       Jensen, Mr. Hans Peder   \n",
       "3          568       No       3  Palsson, Mrs. Nils (Alma Cornelia Berglund)   \n",
       "4          672       No       1                       Davidson, Mr. Thornton   \n",
       "\n",
       "      Sex   Age  SibSp  Parch      Ticket     Fare  Cabin Embarked  \n",
       "0    male  28.0      0      0      248740  13.0000    NaN        S  \n",
       "1    male  25.0      0      0      348123   7.6500  F G73        S  \n",
       "2    male  20.0      0      0      350050   7.8542    NaN        S  \n",
       "3  female  29.0      0      4      349909  21.0750    NaN        S  \n",
       "4    male  31.0      1      0  F.C. 12750  52.0000    B71        S  "
      ]
     },
     "execution_count": 28,
     "metadata": {},
     "output_type": "execute_result"
    }
   ],
   "source": [
    "data = pd.read_csv('titanic-passengers.csv', header='infer', sep=';')\n",
    "data.head()"
   ]
  },
  {
   "cell_type": "code",
   "execution_count": 29,
   "metadata": {},
   "outputs": [
    {
     "name": "stdout",
     "output_type": "stream",
     "text": [
      "<class 'pandas.core.frame.DataFrame'>\n",
      "RangeIndex: 891 entries, 0 to 890\n",
      "Data columns (total 12 columns):\n",
      " #   Column       Non-Null Count  Dtype  \n",
      "---  ------       --------------  -----  \n",
      " 0   PassengerId  891 non-null    int64  \n",
      " 1   Survived     891 non-null    object \n",
      " 2   Pclass       891 non-null    int64  \n",
      " 3   Name         891 non-null    object \n",
      " 4   Sex          891 non-null    object \n",
      " 5   Age          714 non-null    float64\n",
      " 6   SibSp        891 non-null    int64  \n",
      " 7   Parch        891 non-null    int64  \n",
      " 8   Ticket       891 non-null    object \n",
      " 9   Fare         891 non-null    float64\n",
      " 10  Cabin        204 non-null    object \n",
      " 11  Embarked     889 non-null    object \n",
      "dtypes: float64(2), int64(4), object(6)\n",
      "memory usage: 83.7+ KB\n"
     ]
    }
   ],
   "source": [
    "data.info()"
   ]
  },
  {
   "cell_type": "code",
   "execution_count": 30,
   "metadata": {},
   "outputs": [
    {
     "data": {
      "text/plain": [
       "PassengerId      0\n",
       "Survived         0\n",
       "Pclass           0\n",
       "Name             0\n",
       "Sex              0\n",
       "Age            177\n",
       "SibSp            0\n",
       "Parch            0\n",
       "Ticket           0\n",
       "Fare             0\n",
       "Cabin          687\n",
       "Embarked         2\n",
       "dtype: int64"
      ]
     },
     "execution_count": 30,
     "metadata": {},
     "output_type": "execute_result"
    }
   ],
   "source": [
    "data.isnull().sum()"
   ]
  },
  {
   "cell_type": "code",
   "execution_count": 31,
   "metadata": {},
   "outputs": [
    {
     "data": {
      "text/plain": [
       "<seaborn.axisgrid.FacetGrid at 0x1fb0652dc70>"
      ]
     },
     "execution_count": 31,
     "metadata": {},
     "output_type": "execute_result"
    },
    {
     "data": {
      "image/png": "[encoded data removed]",
      "text/plain": [
       "<Figure size 360x360 with 1 Axes>"
      ]
     },
     "metadata": {
      "needs_background": "light"
     },
     "output_type": "display_data"
    }
   ],
   "source": [
    "sns.displot(data[\"Age\"])"
   ]
  },
  {
   "cell_type": "code",
   "execution_count": 6,
   "metadata": {},
   "outputs": [
    {
     "data": {
      "text/plain": [
       "0.3891077823008269"
      ]
     },
     "execution_count": 6,
     "metadata": {},
     "output_type": "execute_result"
    }
   ],
   "source": [
    "data[\"Age\"].skew()"
   ]
  },
  {
   "cell_type": "code",
   "execution_count": null,
   "metadata": {},
   "outputs": [],
   "source": [
    "#The Age variable is skewed to the right, so we will fill its nan values with the median rather than the mean"
   ]
  },
  {
   "cell_type": "code",
   "execution_count": 32,
   "metadata": {},
   "outputs": [],
   "source": [
    "data[\"Age\"].fillna(data[\"Age\"].median(), inplace=True)"
   ]
  },
  {
   "cell_type": "code",
   "execution_count": 8,
   "metadata": {},
   "outputs": [
    {
     "data": {
      "text/plain": [
       "G6             4\n",
       "B96 B98        4\n",
       "C23 C25 C27    4\n",
       "F33            3\n",
       "D              3\n",
       "              ..\n",
       "B69            1\n",
       "C62 C64        1\n",
       "C148           1\n",
       "E50            1\n",
       "C54            1\n",
       "Name: Cabin, Length: 147, dtype: int64"
      ]
     },
     "execution_count": 8,
     "metadata": {},
     "output_type": "execute_result"
    }
   ],
   "source": [
    "data['Cabin'].value_counts()"
   ]
  },
  {
   "cell_type": "code",
   "execution_count": 33,
   "metadata": {},
   "outputs": [
    {
     "name": "stdout",
     "output_type": "stream",
     "text": [
      "The percentage of the missing values in is :  77.10437710437711 %\n"
     ]
    }
   ],
   "source": [
    "data[\"Cabin\"].fillna(\"G6\", inplace=True) #We've filled with the mode of Cabin\n",
    "print(\"The percentage of the missing values in is : \",687/data['Cabin'].value_counts().sum()*100,\"%\")"
   ]
  },
  {
   "cell_type": "code",
   "execution_count": 78,
   "metadata": {},
   "outputs": [],
   "source": [
    "#We can ignore this variable in our model since 77% is too large\n"
   ]
  },
  {
   "cell_type": "code",
   "execution_count": 34,
   "metadata": {},
   "outputs": [
    {
     "data": {
      "text/html": [
       "<div>\n",
       "<style scoped>\n",
       "    .dataframe tbody tr th:only-of-type {\n",
       "        vertical-align: middle;\n",
       "    }\n",
       "\n",
       "    .dataframe tbody tr th {\n",
       "        vertical-align: top;\n",
       "    }\n",
       "\n",
       "    .dataframe thead th {\n",
       "        text-align: right;\n",
       "    }\n",
       "</style>\n",
       "<table border=\"1\" class=\"dataframe\">\n",
       "  <thead>\n",
       "    <tr style=\"text-align: right;\">\n",
       "      <th></th>\n",
       "      <th>PassengerId</th>\n",
       "      <th>Survived</th>\n",
       "      <th>Pclass</th>\n",
       "      <th>Name</th>\n",
       "      <th>Sex</th>\n",
       "      <th>Age</th>\n",
       "      <th>SibSp</th>\n",
       "      <th>Parch</th>\n",
       "      <th>Ticket</th>\n",
       "      <th>Fare</th>\n",
       "      <th>Cabin</th>\n",
       "      <th>Embarked</th>\n",
       "    </tr>\n",
       "  </thead>\n",
       "  <tbody>\n",
       "    <tr>\n",
       "      <th>0</th>\n",
       "      <td>343</td>\n",
       "      <td>0</td>\n",
       "      <td>2</td>\n",
       "      <td>Collander, Mr. Erik Gustaf</td>\n",
       "      <td>1</td>\n",
       "      <td>28.0</td>\n",
       "      <td>0</td>\n",
       "      <td>0</td>\n",
       "      <td>248740</td>\n",
       "      <td>13.0000</td>\n",
       "      <td>G6</td>\n",
       "      <td>S</td>\n",
       "    </tr>\n",
       "    <tr>\n",
       "      <th>1</th>\n",
       "      <td>76</td>\n",
       "      <td>0</td>\n",
       "      <td>3</td>\n",
       "      <td>Moen, Mr. Sigurd Hansen</td>\n",
       "      <td>1</td>\n",
       "      <td>25.0</td>\n",
       "      <td>0</td>\n",
       "      <td>0</td>\n",
       "      <td>348123</td>\n",
       "      <td>7.6500</td>\n",
       "      <td>F G73</td>\n",
       "      <td>S</td>\n",
       "    </tr>\n",
       "    <tr>\n",
       "      <th>2</th>\n",
       "      <td>641</td>\n",
       "      <td>0</td>\n",
       "      <td>3</td>\n",
       "      <td>Jensen, Mr. Hans Peder</td>\n",
       "      <td>1</td>\n",
       "      <td>20.0</td>\n",
       "      <td>0</td>\n",
       "      <td>0</td>\n",
       "      <td>350050</td>\n",
       "      <td>7.8542</td>\n",
       "      <td>G6</td>\n",
       "      <td>S</td>\n",
       "    </tr>\n",
       "    <tr>\n",
       "      <th>3</th>\n",
       "      <td>568</td>\n",
       "      <td>0</td>\n",
       "      <td>3</td>\n",
       "      <td>Palsson, Mrs. Nils (Alma Cornelia Berglund)</td>\n",
       "      <td>0</td>\n",
       "      <td>29.0</td>\n",
       "      <td>0</td>\n",
       "      <td>4</td>\n",
       "      <td>349909</td>\n",
       "      <td>21.0750</td>\n",
       "      <td>G6</td>\n",
       "      <td>S</td>\n",
       "    </tr>\n",
       "    <tr>\n",
       "      <th>4</th>\n",
       "      <td>672</td>\n",
       "      <td>0</td>\n",
       "      <td>1</td>\n",
       "      <td>Davidson, Mr. Thornton</td>\n",
       "      <td>1</td>\n",
       "      <td>31.0</td>\n",
       "      <td>1</td>\n",
       "      <td>0</td>\n",
       "      <td>F.C. 12750</td>\n",
       "      <td>52.0000</td>\n",
       "      <td>B71</td>\n",
       "      <td>S</td>\n",
       "    </tr>\n",
       "  </tbody>\n",
       "</table>\n",
       "</div>"
      ],
      "text/plain": [
       "   PassengerId  Survived  Pclass                                         Name  \\\n",
       "0          343         0       2                   Collander, Mr. Erik Gustaf   \n",
       "1           76         0       3                      Moen, Mr. Sigurd Hansen   \n",
       "2          641         0       3                       Jensen, Mr. Hans Peder   \n",
       "3          568         0       3  Palsson, Mrs. Nils (Alma Cornelia Berglund)   \n",
       "4          672         0       1                       Davidson, Mr. Thornton   \n",
       "\n",
       "   Sex   Age  SibSp  Parch      Ticket     Fare  Cabin Embarked  \n",
       "0    1  28.0      0      0      248740  13.0000     G6        S  \n",
       "1    1  25.0      0      0      348123   7.6500  F G73        S  \n",
       "2    1  20.0      0      0      350050   7.8542     G6        S  \n",
       "3    0  29.0      0      4      349909  21.0750     G6        S  \n",
       "4    1  31.0      1      0  F.C. 12750  52.0000    B71        S  "
      ]
     },
     "execution_count": 34,
     "metadata": {},
     "output_type": "execute_result"
    }
   ],
   "source": [
    "#preparing data for modelign\n",
    "data[\"Survived\"]=data[\"Survived\"].map({\"Yes\": 1, \"No\": 0})   #convert survived variable into numerical\n",
    "data[\"Sex\"]=data[\"Sex\"].map({\"male\": 1, \"female\": 0})   #convert sex variable into numerical\n",
    "data.head()"
   ]
  },
  {
   "cell_type": "code",
   "execution_count": 35,
   "metadata": {},
   "outputs": [
    {
     "data": {
      "image/png": "[encoded data removed]",
      "text/plain": [
       "<Figure size 864x720 with 2 Axes>"
      ]
     },
     "metadata": {
      "needs_background": "light"
     },
     "output_type": "display_data"
    }
   ],
   "source": [
    "def plot_correlation_map( df ):\n",
    "\n",
    "    corr = df.corr()\n",
    "\n",
    "    s , ax = plt.subplots( figsize =( 12 , 10 ) )\n",
    "\n",
    "    cmap = sns.diverging_palette( 220 , 10 , as_cmap = True )\n",
    "\n",
    "    s = sns.heatmap(\n",
    "\n",
    "        corr, \n",
    "\n",
    "        cmap = cmap,\n",
    "\n",
    "        square=True, \n",
    "\n",
    "        cbar_kws={ 'shrink' : .9 }, \n",
    "\n",
    "        ax=ax, \n",
    "\n",
    "        annot = True, \n",
    "\n",
    "        annot_kws = { 'fontsize' : 12 }\n",
    "\n",
    "        )\n",
    "    \n",
    "plot_correlation_map( data )"
   ]
  },
  {
   "cell_type": "code",
   "execution_count": 12,
   "metadata": {},
   "outputs": [],
   "source": [
    "features = data.iloc[:,2:].columns.tolist()\n",
    "target = data.iloc[:,1].name"
   ]
  },
  {
   "cell_type": "code",
   "execution_count": 36,
   "metadata": {},
   "outputs": [],
   "source": [
    "correlations = {}\n",
    "for f in features:\n",
    "    data_temp = data[[f,target]]\n",
    "    x1 = data_temp[f].values\n",
    "    x2 = data_temp[target].values\n",
    "    key = f + ' vs ' + target\n",
    "    correlations[key] = st.spearmanr(x1,x2)[0]"
   ]
  },
  {
   "cell_type": "code",
   "execution_count": 37,
   "metadata": {},
   "outputs": [
    {
     "data": {
      "text/html": [
       "<div>\n",
       "<style scoped>\n",
       "    .dataframe tbody tr th:only-of-type {\n",
       "        vertical-align: middle;\n",
       "    }\n",
       "\n",
       "    .dataframe tbody tr th {\n",
       "        vertical-align: top;\n",
       "    }\n",
       "\n",
       "    .dataframe thead th {\n",
       "        text-align: right;\n",
       "    }\n",
       "</style>\n",
       "<table border=\"1\" class=\"dataframe\">\n",
       "  <thead>\n",
       "    <tr style=\"text-align: right;\">\n",
       "      <th></th>\n",
       "      <th>Value</th>\n",
       "    </tr>\n",
       "  </thead>\n",
       "  <tbody>\n",
       "    <tr>\n",
       "      <th>Sex vs Survived</th>\n",
       "      <td>-0.543351</td>\n",
       "    </tr>\n",
       "    <tr>\n",
       "      <th>Pclass vs Survived</th>\n",
       "      <td>-0.339668</td>\n",
       "    </tr>\n",
       "    <tr>\n",
       "      <th>Fare vs Survived</th>\n",
       "      <td>0.323736</td>\n",
       "    </tr>\n",
       "    <tr>\n",
       "      <th>Cabin vs Survived</th>\n",
       "      <td>-0.312869</td>\n",
       "    </tr>\n",
       "    <tr>\n",
       "      <th>Ticket vs Survived</th>\n",
       "      <td>-0.163354</td>\n",
       "    </tr>\n",
       "    <tr>\n",
       "      <th>Parch vs Survived</th>\n",
       "      <td>0.138266</td>\n",
       "    </tr>\n",
       "    <tr>\n",
       "      <th>SibSp vs Survived</th>\n",
       "      <td>0.088879</td>\n",
       "    </tr>\n",
       "    <tr>\n",
       "      <th>Name vs Survived</th>\n",
       "      <td>-0.057343</td>\n",
       "    </tr>\n",
       "    <tr>\n",
       "      <th>Age vs Survived</th>\n",
       "      <td>-0.037004</td>\n",
       "    </tr>\n",
       "    <tr>\n",
       "      <th>Embarked vs Survived</th>\n",
       "      <td>NaN</td>\n",
       "    </tr>\n",
       "  </tbody>\n",
       "</table>\n",
       "</div>"
      ],
      "text/plain": [
       "                         Value\n",
       "Sex vs Survived      -0.543351\n",
       "Pclass vs Survived   -0.339668\n",
       "Fare vs Survived      0.323736\n",
       "Cabin vs Survived    -0.312869\n",
       "Ticket vs Survived   -0.163354\n",
       "Parch vs Survived     0.138266\n",
       "SibSp vs Survived     0.088879\n",
       "Name vs Survived     -0.057343\n",
       "Age vs Survived      -0.037004\n",
       "Embarked vs Survived       NaN"
      ]
     },
     "execution_count": 37,
     "metadata": {},
     "output_type": "execute_result"
    }
   ],
   "source": [
    "# Printing all the correlated features value with respect to price which is target variable\n",
    "data_correlations = pd.DataFrame(correlations, index=['Value']).T\n",
    "data_correlations.loc[data_correlations['Value'].abs().sort_values(ascending=False).index]"
   ]
  },
  {
   "cell_type": "code",
   "execution_count": 38,
   "metadata": {},
   "outputs": [],
   "source": [
    "#importing relevant libraries\n",
    "from sklearn.model_selection import train_test_split\n",
    "from sklearn import tree   \n",
    "from sklearn.tree import DecisionTreeClassifier\n",
    "from sklearn.metrics import accuracy_score"
   ]
  },
  {
   "cell_type": "code",
   "execution_count": 63,
   "metadata": {},
   "outputs": [
    {
     "name": "stdout",
     "output_type": "stream",
     "text": [
      "score:0.7877094972067039\n"
     ]
    }
   ],
   "source": [
    "#features extraction\n",
    "x=data.drop([\"Survived\", \"Name\", \"Cabin\", \"Ticket\", \"Embarked\"], axis=1)\n",
    "y= data[\"Survived\"]\n",
    "\n",
    "#splitting data\n",
    "x_train, x_test, y_train, y_test = train_test_split(x,y, test_size=0.20,random_state=10)\n",
    "\n",
    "#applying tree algorithm\n",
    "tree = tree.DecisionTreeClassifier()  \n",
    "clf = tree.fit(x_train, y_train)   #fitting our model\n",
    "y_pred=tree.predict(x_test)   # evaluating our model\n",
    "print(\"score:{}\".format(accuracy_score(y_test, y_pred)))"
   ]
  },
  {
   "cell_type": "code",
   "execution_count": 66,
   "metadata": {},
   "outputs": [
    {
     "data": {
      "text/plain": [
       "[Text(205.2046092118998, 423.4357894736842, 'X[2] <= 0.5\\ngini = 0.469\\nsamples = 712\\nvalue = [444, 268]'),\n",
       " Text(88.4616388308977, 400.5473684210526, 'X[1] <= 2.5\\ngini = 0.39\\nsamples = 252\\nvalue = [67, 185]'),\n",
       " Text(33.782881002087684, 377.6589473684211, 'X[3] <= 2.5\\ngini = 0.1\\nsamples = 133\\nvalue = [7, 126]'),\n",
       " Text(29.123173277661795, 354.7705263157895, 'gini = 0.0\\nsamples = 1\\nvalue = [1, 0]'),\n",
       " Text(38.44258872651357, 354.7705263157895, 'X[6] <= 26.125\\ngini = 0.087\\nsamples = 132\\nvalue = [6, 126]'),\n",
       " Text(25.62839248434238, 331.8821052631579, 'X[3] <= 55.5\\ngini = 0.198\\nsamples = 45\\nvalue = [5, 40]'),\n",
       " Text(20.968684759916492, 308.99368421052634, 'X[0] <= 48.0\\ngini = 0.165\\nsamples = 44\\nvalue = [4, 40]'),\n",
       " Text(16.308977035490607, 286.10526315789474, 'gini = 0.0\\nsamples = 1\\nvalue = [1, 0]'),\n",
       " Text(25.62839248434238, 286.10526315789474, 'X[4] <= 0.5\\ngini = 0.13\\nsamples = 43\\nvalue = [3, 40]'),\n",
       " Text(13.979123173277662, 263.21684210526314, 'X[0] <= 206.0\\ngini = 0.059\\nsamples = 33\\nvalue = [1, 32]'),\n",
       " Text(9.319415448851775, 240.32842105263157, 'X[0] <= 195.5\\ngini = 0.245\\nsamples = 7\\nvalue = [1, 6]'),\n",
       " Text(4.659707724425887, 217.44, 'gini = 0.0\\nsamples = 6\\nvalue = [0, 6]'),\n",
       " Text(13.979123173277662, 217.44, 'gini = 0.0\\nsamples = 1\\nvalue = [1, 0]'),\n",
       " Text(18.63883089770355, 240.32842105263157, 'gini = 0.0\\nsamples = 26\\nvalue = [0, 26]'),\n",
       " Text(37.2776617954071, 263.21684210526314, 'X[5] <= 0.5\\ngini = 0.32\\nsamples = 10\\nvalue = [2, 8]'),\n",
       " Text(27.958246346555324, 240.32842105263157, 'X[3] <= 43.0\\ngini = 0.219\\nsamples = 8\\nvalue = [1, 7]'),\n",
       " Text(23.298538622129435, 217.44, 'gini = 0.0\\nsamples = 7\\nvalue = [0, 7]'),\n",
       " Text(32.61795407098121, 217.44, 'gini = 0.0\\nsamples = 1\\nvalue = [1, 0]'),\n",
       " Text(46.59707724425887, 240.32842105263157, 'X[6] <= 24.5\\ngini = 0.5\\nsamples = 2\\nvalue = [1, 1]'),\n",
       " Text(41.937369519832984, 217.44, 'gini = 0.0\\nsamples = 1\\nvalue = [0, 1]'),\n",
       " Text(51.25678496868476, 217.44, 'gini = 0.0\\nsamples = 1\\nvalue = [1, 0]'),\n",
       " Text(30.288100208768267, 308.99368421052634, 'gini = 0.0\\nsamples = 1\\nvalue = [1, 0]'),\n",
       " Text(51.25678496868476, 331.8821052631579, 'X[6] <= 149.035\\ngini = 0.023\\nsamples = 87\\nvalue = [1, 86]'),\n",
       " Text(46.59707724425887, 308.99368421052634, 'gini = 0.0\\nsamples = 73\\nvalue = [0, 73]'),\n",
       " Text(55.91649269311065, 308.99368421052634, 'X[6] <= 152.506\\ngini = 0.133\\nsamples = 14\\nvalue = [1, 13]'),\n",
       " Text(51.25678496868476, 286.10526315789474, 'X[3] <= 23.5\\ngini = 0.5\\nsamples = 2\\nvalue = [1, 1]'),\n",
       " Text(46.59707724425887, 263.21684210526314, 'gini = 0.0\\nsamples = 1\\nvalue = [0, 1]'),\n",
       " Text(55.91649269311065, 263.21684210526314, 'gini = 0.0\\nsamples = 1\\nvalue = [1, 0]'),\n",
       " Text(60.57620041753653, 286.10526315789474, 'gini = 0.0\\nsamples = 12\\nvalue = [0, 12]'),\n",
       " Text(143.14039665970773, 377.6589473684211, 'X[6] <= 23.35\\ngini = 0.5\\nsamples = 119\\nvalue = [60, 59]'),\n",
       " Text(111.54175365344467, 354.7705263157895, 'X[6] <= 8.04\\ngini = 0.484\\nsamples = 95\\nvalue = [39, 56]'),\n",
       " Text(88.53444676409185, 331.8821052631579, 'X[0] <= 387.0\\ngini = 0.408\\nsamples = 42\\nvalue = [12, 30]'),\n",
       " Text(74.5553235908142, 308.99368421052634, 'X[3] <= 14.5\\ngini = 0.211\\nsamples = 25\\nvalue = [3, 22]'),\n",
       " Text(69.89561586638831, 286.10526315789474, 'gini = 0.0\\nsamples = 1\\nvalue = [1, 0]'),\n",
       " Text(79.21503131524008, 286.10526315789474, 'X[3] <= 36.5\\ngini = 0.153\\nsamples = 24\\nvalue = [2, 22]'),\n",
       " Text(74.5553235908142, 263.21684210526314, 'X[0] <= 241.0\\ngini = 0.083\\nsamples = 23\\nvalue = [1, 22]'),\n",
       " Text(69.89561586638831, 240.32842105263157, 'gini = 0.0\\nsamples = 15\\nvalue = [0, 15]'),\n",
       " Text(79.21503131524008, 240.32842105263157, 'X[0] <= 270.0\\ngini = 0.219\\nsamples = 8\\nvalue = [1, 7]'),\n",
       " Text(74.5553235908142, 217.44, 'gini = 0.0\\nsamples = 1\\nvalue = [1, 0]'),\n",
       " Text(83.87473903966597, 217.44, 'gini = 0.0\\nsamples = 7\\nvalue = [0, 7]'),\n",
       " Text(83.87473903966597, 263.21684210526314, 'gini = 0.0\\nsamples = 1\\nvalue = [1, 0]'),\n",
       " Text(102.51356993736952, 308.99368421052634, 'X[0] <= 529.0\\ngini = 0.498\\nsamples = 17\\nvalue = [9, 8]'),\n",
       " Text(97.85386221294364, 286.10526315789474, 'gini = 0.0\\nsamples = 3\\nvalue = [3, 0]'),\n",
       " Text(107.17327766179541, 286.10526315789474, 'X[0] <= 797.5\\ngini = 0.49\\nsamples = 14\\nvalue = [6, 8]'),\n",
       " Text(102.51356993736952, 263.21684210526314, 'X[3] <= 29.25\\ngini = 0.444\\nsamples = 12\\nvalue = [4, 8]'),\n",
       " Text(97.85386221294364, 240.32842105263157, 'X[4] <= 0.5\\ngini = 0.397\\nsamples = 11\\nvalue = [3, 8]'),\n",
       " Text(93.19415448851774, 217.44, 'X[6] <= 6.99\\ngini = 0.32\\nsamples = 10\\nvalue = [2, 8]'),\n",
       " Text(88.53444676409185, 194.55157894736843, 'gini = 0.0\\nsamples = 1\\nvalue = [1, 0]'),\n",
       " Text(97.85386221294364, 194.55157894736843, 'X[5] <= 1.0\\ngini = 0.198\\nsamples = 9\\nvalue = [1, 8]'),\n",
       " Text(93.19415448851774, 171.66315789473686, 'gini = 0.0\\nsamples = 8\\nvalue = [0, 8]'),\n",
       " Text(102.51356993736952, 171.66315789473686, 'gini = 0.0\\nsamples = 1\\nvalue = [1, 0]'),\n",
       " Text(102.51356993736952, 217.44, 'gini = 0.0\\nsamples = 1\\nvalue = [1, 0]'),\n",
       " Text(107.17327766179541, 240.32842105263157, 'gini = 0.0\\nsamples = 1\\nvalue = [1, 0]'),\n",
       " Text(111.8329853862213, 263.21684210526314, 'gini = 0.0\\nsamples = 2\\nvalue = [2, 0]'),\n",
       " Text(134.5490605427975, 331.8821052631579, 'X[3] <= 6.5\\ngini = 0.5\\nsamples = 53\\nvalue = [27, 26]'),\n",
       " Text(121.15240083507307, 308.99368421052634, 'X[6] <= 10.798\\ngini = 0.219\\nsamples = 8\\nvalue = [1, 7]'),\n",
       " Text(116.49269311064718, 286.10526315789474, 'gini = 0.0\\nsamples = 1\\nvalue = [1, 0]'),\n",
       " Text(125.81210855949895, 286.10526315789474, 'gini = 0.0\\nsamples = 7\\nvalue = [0, 7]'),\n",
       " Text(147.94572025052193, 308.99368421052634, 'X[0] <= 750.5\\ngini = 0.488\\nsamples = 45\\nvalue = [26, 19]'),\n",
       " Text(135.13152400835074, 286.10526315789474, 'X[6] <= 15.373\\ngini = 0.46\\nsamples = 39\\nvalue = [25, 14]'),\n",
       " Text(123.48225469728601, 263.21684210526314, 'X[0] <= 96.0\\ngini = 0.308\\nsamples = 21\\nvalue = [17, 4]'),\n",
       " Text(118.82254697286012, 240.32842105263157, 'gini = 0.0\\nsamples = 2\\nvalue = [0, 2]'),\n",
       " Text(128.1419624217119, 240.32842105263157, 'X[3] <= 55.0\\ngini = 0.188\\nsamples = 19\\nvalue = [17, 2]'),\n",
       " Text(123.48225469728601, 217.44, 'X[0] <= 621.5\\ngini = 0.105\\nsamples = 18\\nvalue = [17, 1]'),\n",
       " Text(118.82254697286012, 194.55157894736843, 'gini = 0.0\\nsamples = 15\\nvalue = [15, 0]'),\n",
       " Text(128.1419624217119, 194.55157894736843, 'X[0] <= 679.5\\ngini = 0.444\\nsamples = 3\\nvalue = [2, 1]'),\n",
       " Text(123.48225469728601, 171.66315789473686, 'gini = 0.0\\nsamples = 1\\nvalue = [0, 1]'),\n",
       " Text(132.80167014613778, 171.66315789473686, 'gini = 0.0\\nsamples = 2\\nvalue = [2, 0]'),\n",
       " Text(132.80167014613778, 217.44, 'gini = 0.0\\nsamples = 1\\nvalue = [0, 1]'),\n",
       " Text(146.78079331941544, 263.21684210526314, 'X[0] <= 68.0\\ngini = 0.494\\nsamples = 18\\nvalue = [8, 10]'),\n",
       " Text(142.12108559498955, 240.32842105263157, 'gini = 0.0\\nsamples = 4\\nvalue = [4, 0]'),\n",
       " Text(151.44050104384135, 240.32842105263157, 'X[0] <= 481.5\\ngini = 0.408\\nsamples = 14\\nvalue = [4, 10]'),\n",
       " Text(142.12108559498955, 217.44, 'X[3] <= 38.0\\ngini = 0.18\\nsamples = 10\\nvalue = [1, 9]'),\n",
       " Text(137.46137787056367, 194.55157894736843, 'gini = 0.0\\nsamples = 9\\nvalue = [0, 9]'),\n",
       " Text(146.78079331941544, 194.55157894736843, 'gini = 0.0\\nsamples = 1\\nvalue = [1, 0]'),\n",
       " Text(160.75991649269312, 217.44, 'X[0] <= 615.5\\ngini = 0.375\\nsamples = 4\\nvalue = [3, 1]'),\n",
       " Text(156.10020876826724, 194.55157894736843, 'X[5] <= 2.0\\ngini = 0.5\\nsamples = 2\\nvalue = [1, 1]'),\n",
       " Text(151.44050104384135, 171.66315789473686, 'gini = 0.0\\nsamples = 1\\nvalue = [0, 1]'),\n",
       " Text(160.75991649269312, 171.66315789473686, 'gini = 0.0\\nsamples = 1\\nvalue = [1, 0]'),\n",
       " Text(165.419624217119, 194.55157894736843, 'gini = 0.0\\nsamples = 2\\nvalue = [2, 0]'),\n",
       " Text(160.75991649269312, 286.10526315789474, 'X[3] <= 12.0\\ngini = 0.278\\nsamples = 6\\nvalue = [1, 5]'),\n",
       " Text(156.10020876826724, 263.21684210526314, 'gini = 0.0\\nsamples = 1\\nvalue = [1, 0]'),\n",
       " Text(165.419624217119, 263.21684210526314, 'gini = 0.0\\nsamples = 5\\nvalue = [0, 5]'),\n",
       " Text(174.73903966597078, 354.7705263157895, 'X[0] <= 115.0\\ngini = 0.219\\nsamples = 24\\nvalue = [21, 3]'),\n",
       " Text(170.0793319415449, 331.8821052631579, 'gini = 0.0\\nsamples = 2\\nvalue = [0, 2]'),\n",
       " Text(179.39874739039666, 331.8821052631579, 'X[3] <= 5.5\\ngini = 0.087\\nsamples = 22\\nvalue = [21, 1]'),\n",
       " Text(174.73903966597078, 308.99368421052634, 'X[6] <= 31.331\\ngini = 0.5\\nsamples = 2\\nvalue = [1, 1]'),\n",
       " Text(170.0793319415449, 286.10526315789474, 'gini = 0.0\\nsamples = 1\\nvalue = [1, 0]'),\n",
       " Text(179.39874739039666, 286.10526315789474, 'gini = 0.0\\nsamples = 1\\nvalue = [0, 1]'),\n",
       " Text(184.05845511482255, 308.99368421052634, 'gini = 0.0\\nsamples = 20\\nvalue = [20, 0]'),\n",
       " Text(321.9475795929019, 400.5473684210526, 'X[1] <= 1.5\\ngini = 0.296\\nsamples = 460\\nvalue = [377, 83]'),\n",
       " Text(219.0062630480167, 377.6589473684211, 'X[0] <= 187.0\\ngini = 0.461\\nsamples = 100\\nvalue = [64, 36]'),\n",
       " Text(202.6972860125261, 354.7705263157895, 'X[3] <= 32.5\\ngini = 0.236\\nsamples = 22\\nvalue = [19, 3]'),\n",
       " Text(198.0375782881002, 331.8821052631579, 'X[0] <= 26.0\\ngini = 0.397\\nsamples = 11\\nvalue = [8, 3]'),\n",
       " Text(193.37787056367432, 308.99368421052634, 'gini = 0.0\\nsamples = 1\\nvalue = [0, 1]'),\n",
       " Text(202.6972860125261, 308.99368421052634, 'X[0] <= 108.5\\ngini = 0.32\\nsamples = 10\\nvalue = [8, 2]'),\n",
       " Text(198.0375782881002, 286.10526315789474, 'X[0] <= 91.0\\ngini = 0.444\\nsamples = 6\\nvalue = [4, 2]'),\n",
       " Text(193.37787056367432, 263.21684210526314, 'X[6] <= 41.3\\ngini = 0.32\\nsamples = 5\\nvalue = [4, 1]'),\n",
       " Text(188.71816283924844, 240.32842105263157, 'X[0] <= 60.5\\ngini = 0.5\\nsamples = 2\\nvalue = [1, 1]'),\n",
       " Text(184.05845511482255, 217.44, 'gini = 0.0\\nsamples = 1\\nvalue = [0, 1]'),\n",
       " Text(193.37787056367432, 217.44, 'gini = 0.0\\nsamples = 1\\nvalue = [1, 0]'),\n",
       " Text(198.0375782881002, 240.32842105263157, 'gini = 0.0\\nsamples = 3\\nvalue = [3, 0]'),\n",
       " Text(202.6972860125261, 263.21684210526314, 'gini = 0.0\\nsamples = 1\\nvalue = [0, 1]'),\n",
       " Text(207.35699373695198, 286.10526315789474, 'gini = 0.0\\nsamples = 4\\nvalue = [4, 0]'),\n",
       " Text(207.35699373695198, 331.8821052631579, 'gini = 0.0\\nsamples = 11\\nvalue = [11, 0]'),\n",
       " Text(235.31524008350732, 354.7705263157895, 'X[3] <= 27.5\\ngini = 0.488\\nsamples = 78\\nvalue = [45, 33]'),\n",
       " Text(225.99582463465555, 331.8821052631579, 'X[3] <= 22.0\\ngini = 0.32\\nsamples = 10\\nvalue = [2, 8]'),\n",
       " Text(221.33611691022963, 308.99368421052634, 'X[3] <= 17.5\\ngini = 0.48\\nsamples = 5\\nvalue = [2, 3]'),\n",
       " Text(216.67640918580375, 286.10526315789474, 'gini = 0.0\\nsamples = 3\\nvalue = [0, 3]'),\n",
       " Text(225.99582463465555, 286.10526315789474, 'gini = 0.0\\nsamples = 2\\nvalue = [2, 0]'),\n",
       " Text(230.65553235908143, 308.99368421052634, 'gini = 0.0\\nsamples = 5\\nvalue = [0, 5]'),\n",
       " Text(244.6346555323591, 331.8821052631579, 'X[0] <= 235.5\\ngini = 0.465\\nsamples = 68\\nvalue = [43, 25]'),\n",
       " Text(239.9749478079332, 308.99368421052634, 'gini = 0.0\\nsamples = 3\\nvalue = [0, 3]'),\n",
       " Text(249.29436325678498, 308.99368421052634, 'X[6] <= 26.144\\ngini = 0.448\\nsamples = 65\\nvalue = [43, 22]'),\n",
       " Text(244.6346555323591, 286.10526315789474, 'gini = 0.0\\nsamples = 7\\nvalue = [7, 0]'),\n",
       " Text(253.95407098121086, 286.10526315789474, 'X[6] <= 26.469\\ngini = 0.471\\nsamples = 58\\nvalue = [36, 22]'),\n",
       " Text(249.29436325678498, 263.21684210526314, 'gini = 0.0\\nsamples = 3\\nvalue = [0, 3]'),\n",
       " Text(258.6137787056367, 263.21684210526314, 'X[0] <= 817.0\\ngini = 0.452\\nsamples = 55\\nvalue = [36, 19]'),\n",
       " Text(253.95407098121086, 240.32842105263157, 'X[0] <= 741.5\\ngini = 0.436\\nsamples = 53\\nvalue = [36, 17]'),\n",
       " Text(249.29436325678498, 217.44, 'X[0] <= 586.0\\ngini = 0.462\\nsamples = 47\\nvalue = [30, 17]'),\n",
       " Text(227.160751565762, 194.55157894736843, 'X[6] <= 27.135\\ngini = 0.375\\nsamples = 32\\nvalue = [24, 8]'),\n",
       " Text(210.8517745302714, 171.66315789473686, 'X[3] <= 39.5\\ngini = 0.5\\nsamples = 8\\nvalue = [4, 4]'),\n",
       " Text(206.1920668058455, 148.77473684210526, 'gini = 0.0\\nsamples = 3\\nvalue = [0, 3]'),\n",
       " Text(215.51148225469728, 148.77473684210526, 'X[3] <= 52.0\\ngini = 0.32\\nsamples = 5\\nvalue = [4, 1]'),\n",
       " Text(210.8517745302714, 125.88631578947371, 'X[3] <= 46.5\\ngini = 0.5\\nsamples = 2\\nvalue = [1, 1]'),\n",
       " Text(206.1920668058455, 102.99789473684211, 'gini = 0.0\\nsamples = 1\\nvalue = [1, 0]'),\n",
       " Text(215.51148225469728, 102.99789473684211, 'gini = 0.0\\nsamples = 1\\nvalue = [0, 1]'),\n",
       " Text(220.17118997912317, 125.88631578947371, 'gini = 0.0\\nsamples = 3\\nvalue = [3, 0]'),\n",
       " Text(243.46972860125263, 171.66315789473686, 'X[0] <= 458.5\\ngini = 0.278\\nsamples = 24\\nvalue = [20, 4]'),\n",
       " Text(238.8100208768267, 148.77473684210526, 'X[0] <= 444.5\\ngini = 0.391\\nsamples = 15\\nvalue = [11, 4]'),\n",
       " Text(229.49060542797494, 125.88631578947371, 'X[3] <= 37.5\\ngini = 0.278\\nsamples = 12\\nvalue = [10, 2]'),\n",
       " Text(224.83089770354906, 102.99789473684211, 'X[4] <= 0.5\\ngini = 0.444\\nsamples = 6\\nvalue = [4, 2]'),\n",
       " Text(220.17118997912317, 80.10947368421051, 'X[0] <= 297.5\\ngini = 0.32\\nsamples = 5\\nvalue = [4, 1]'),\n",
       " Text(215.51148225469728, 57.22105263157897, 'gini = 0.0\\nsamples = 3\\nvalue = [3, 0]'),\n",
       " Text(224.83089770354906, 57.22105263157897, 'X[6] <= 32.75\\ngini = 0.5\\nsamples = 2\\nvalue = [1, 1]'),\n",
       " Text(220.17118997912317, 34.33263157894737, 'gini = 0.0\\nsamples = 1\\nvalue = [0, 1]'),\n",
       " Text(229.49060542797494, 34.33263157894737, 'gini = 0.0\\nsamples = 1\\nvalue = [1, 0]'),\n",
       " Text(229.49060542797494, 80.10947368421051, 'gini = 0.0\\nsamples = 1\\nvalue = [0, 1]'),\n",
       " Text(234.15031315240083, 102.99789473684211, 'gini = 0.0\\nsamples = 6\\nvalue = [6, 0]'),\n",
       " Text(248.1294363256785, 125.88631578947371, 'X[3] <= 39.5\\ngini = 0.444\\nsamples = 3\\nvalue = [1, 2]'),\n",
       " Text(243.46972860125263, 102.99789473684211, 'gini = 0.0\\nsamples = 1\\nvalue = [1, 0]'),\n",
       " Text(252.7891440501044, 102.99789473684211, 'gini = 0.0\\nsamples = 2\\nvalue = [0, 2]'),\n",
       " Text(248.1294363256785, 148.77473684210526, 'gini = 0.0\\nsamples = 9\\nvalue = [9, 0]'),\n",
       " Text(271.4279749478079, 194.55157894736843, 'X[0] <= 654.0\\ngini = 0.48\\nsamples = 15\\nvalue = [6, 9]'),\n",
       " Text(262.10855949895614, 171.66315789473686, 'X[3] <= 30.0\\ngini = 0.245\\nsamples = 7\\nvalue = [1, 6]'),\n",
       " Text(257.4488517745303, 148.77473684210526, 'gini = 0.0\\nsamples = 1\\nvalue = [1, 0]'),\n",
       " Text(266.76826722338205, 148.77473684210526, 'gini = 0.0\\nsamples = 6\\nvalue = [0, 6]'),\n",
       " Text(280.74739039665974, 171.66315789473686, 'X[3] <= 42.5\\ngini = 0.469\\nsamples = 8\\nvalue = [5, 3]'),\n",
       " Text(276.0876826722338, 148.77473684210526, 'X[6] <= 54.5\\ngini = 0.48\\nsamples = 5\\nvalue = [2, 3]'),\n",
       " Text(271.4279749478079, 125.88631578947371, 'X[0] <= 726.5\\ngini = 0.444\\nsamples = 3\\nvalue = [2, 1]'),\n",
       " Text(266.76826722338205, 102.99789473684211, 'gini = 0.0\\nsamples = 2\\nvalue = [2, 0]'),\n",
       " Text(276.0876826722338, 102.99789473684211, 'gini = 0.0\\nsamples = 1\\nvalue = [0, 1]'),\n",
       " Text(280.74739039665974, 125.88631578947371, 'gini = 0.0\\nsamples = 2\\nvalue = [0, 2]'),\n",
       " Text(285.4070981210856, 148.77473684210526, 'gini = 0.0\\nsamples = 3\\nvalue = [3, 0]'),\n",
       " Text(258.6137787056367, 217.44, 'gini = 0.0\\nsamples = 6\\nvalue = [6, 0]'),\n",
       " Text(263.27348643006263, 240.32842105263157, 'gini = 0.0\\nsamples = 2\\nvalue = [0, 2]'),\n",
       " Text(424.88889613778707, 377.6589473684211, 'X[3] <= 3.5\\ngini = 0.227\\nsamples = 360\\nvalue = [313, 47]'),\n",
       " Text(362.7291231732777, 354.7705263157895, 'X[4] <= 2.5\\ngini = 0.444\\nsamples = 12\\nvalue = [4, 8]'),\n",
       " Text(358.06941544885177, 331.8821052631579, 'gini = 0.0\\nsamples = 7\\nvalue = [0, 7]'),\n",
       " Text(367.38883089770354, 331.8821052631579, 'X[5] <= 1.5\\ngini = 0.32\\nsamples = 5\\nvalue = [4, 1]'),\n",
       " Text(362.7291231732777, 308.99368421052634, 'gini = 0.0\\nsamples = 4\\nvalue = [4, 0]'),\n",
       " Text(372.04853862212946, 308.99368421052634, 'gini = 0.0\\nsamples = 1\\nvalue = [0, 1]'),\n",
       " Text(487.04866910229646, 354.7705263157895, 'X[3] <= 32.25\\ngini = 0.199\\nsamples = 348\\nvalue = [309, 39]'),\n",
       " Text(434.73616910229646, 331.8821052631579, 'X[3] <= 31.5\\ngini = 0.233\\nsamples = 260\\nvalue = [225, 35]'),\n",
       " Text(381.3679540709812, 308.99368421052634, 'X[0] <= 302.5\\ngini = 0.211\\nsamples = 250\\nvalue = [220, 30]'),\n",
       " Text(347.14822546972863, 286.10526315789474, 'X[0] <= 283.5\\ngini = 0.3\\nsamples = 87\\nvalue = [71, 16]'),\n",
       " Text(337.82881002087686, 263.21684210526314, 'X[6] <= 20.55\\ngini = 0.264\\nsamples = 83\\nvalue = [70, 13]'),\n",
       " Text(333.16910229645094, 240.32842105263157, 'X[3] <= 14.0\\ngini = 0.309\\nsamples = 68\\nvalue = [55, 13]'),\n",
       " Text(328.50939457202503, 217.44, 'gini = 0.0\\nsamples = 2\\nvalue = [0, 2]'),\n",
       " Text(337.82881002087686, 217.44, 'X[6] <= 15.148\\ngini = 0.278\\nsamples = 66\\nvalue = [55, 11]'),\n",
       " Text(320.35490605427975, 194.55157894736843, 'X[6] <= 7.24\\ngini = 0.245\\nsamples = 63\\nvalue = [54, 9]'),\n",
       " Text(299.3862212943633, 171.66315789473686, 'X[3] <= 23.0\\ngini = 0.444\\nsamples = 9\\nvalue = [6, 3]'),\n",
       " Text(294.72651356993737, 148.77473684210526, 'gini = 0.0\\nsamples = 3\\nvalue = [3, 0]'),\n",
       " Text(304.04592901878914, 148.77473684210526, 'X[3] <= 26.5\\ngini = 0.5\\nsamples = 6\\nvalue = [3, 3]'),\n",
       " Text(299.3862212943633, 125.88631578947371, 'gini = 0.0\\nsamples = 2\\nvalue = [0, 2]'),\n",
       " Text(308.70563674321505, 125.88631578947371, 'X[6] <= 7.227\\ngini = 0.375\\nsamples = 4\\nvalue = [3, 1]'),\n",
       " Text(304.04592901878914, 102.99789473684211, 'gini = 0.0\\nsamples = 2\\nvalue = [2, 0]'),\n",
       " Text(313.3653444676409, 102.99789473684211, 'X[0] <= 47.5\\ngini = 0.5\\nsamples = 2\\nvalue = [1, 1]'),\n",
       " Text(308.70563674321505, 80.10947368421051, 'gini = 0.0\\nsamples = 1\\nvalue = [0, 1]'),\n",
       " Text(318.0250521920668, 80.10947368421051, 'gini = 0.0\\nsamples = 1\\nvalue = [1, 0]'),\n",
       " Text(341.3235908141962, 171.66315789473686, 'X[3] <= 18.5\\ngini = 0.198\\nsamples = 54\\nvalue = [48, 6]'),\n",
       " Text(332.00417536534445, 148.77473684210526, 'X[6] <= 8.356\\ngini = 0.408\\nsamples = 7\\nvalue = [5, 2]'),\n",
       " Text(327.3444676409186, 125.88631578947371, 'X[5] <= 0.5\\ngini = 0.444\\nsamples = 3\\nvalue = [1, 2]'),\n",
       " Text(322.6847599164927, 102.99789473684211, 'gini = 0.0\\nsamples = 2\\nvalue = [0, 2]'),\n",
       " Text(332.00417536534445, 102.99789473684211, 'gini = 0.0\\nsamples = 1\\nvalue = [1, 0]'),\n",
       " Text(336.66388308977037, 125.88631578947371, 'gini = 0.0\\nsamples = 4\\nvalue = [4, 0]'),\n",
       " Text(350.643006263048, 148.77473684210526, 'X[0] <= 151.0\\ngini = 0.156\\nsamples = 47\\nvalue = [43, 4]'),\n",
       " Text(345.98329853862214, 125.88631578947371, 'X[3] <= 28.5\\ngini = 0.26\\nsamples = 26\\nvalue = [22, 4]'),\n",
       " Text(341.3235908141962, 102.99789473684211, 'X[0] <= 141.5\\ngini = 0.211\\nsamples = 25\\nvalue = [22, 3]'),\n",
       " Text(336.66388308977037, 80.10947368421051, 'X[0] <= 24.0\\ngini = 0.153\\nsamples = 24\\nvalue = [22, 2]'),\n",
       " Text(327.3444676409186, 57.22105263157897, 'X[1] <= 2.5\\ngini = 0.444\\nsamples = 3\\nvalue = [2, 1]'),\n",
       " Text(322.6847599164927, 34.33263157894737, 'gini = 0.0\\nsamples = 1\\nvalue = [0, 1]'),\n",
       " Text(332.00417536534445, 34.33263157894737, 'gini = 0.0\\nsamples = 2\\nvalue = [2, 0]'),\n",
       " Text(345.98329853862214, 57.22105263157897, 'X[6] <= 7.788\\ngini = 0.091\\nsamples = 21\\nvalue = [20, 1]'),\n",
       " Text(341.3235908141962, 34.33263157894737, 'X[6] <= 7.763\\ngini = 0.5\\nsamples = 2\\nvalue = [1, 1]'),\n",
       " Text(336.66388308977037, 11.444210526315771, 'gini = 0.0\\nsamples = 1\\nvalue = [1, 0]'),\n",
       " Text(345.98329853862214, 11.444210526315771, 'gini = 0.0\\nsamples = 1\\nvalue = [0, 1]'),\n",
       " Text(350.643006263048, 34.33263157894737, 'gini = 0.0\\nsamples = 19\\nvalue = [19, 0]'),\n",
       " Text(345.98329853862214, 80.10947368421051, 'gini = 0.0\\nsamples = 1\\nvalue = [0, 1]'),\n",
       " Text(350.643006263048, 102.99789473684211, 'gini = 0.0\\nsamples = 1\\nvalue = [0, 1]'),\n",
       " Text(355.3027139874739, 125.88631578947371, 'gini = 0.0\\nsamples = 21\\nvalue = [21, 0]'),\n",
       " Text(355.3027139874739, 194.55157894736843, 'X[0] <= 56.5\\ngini = 0.444\\nsamples = 3\\nvalue = [1, 2]'),\n",
       " Text(350.643006263048, 171.66315789473686, 'gini = 0.0\\nsamples = 1\\nvalue = [1, 0]'),\n",
       " Text(359.9624217118998, 171.66315789473686, 'gini = 0.0\\nsamples = 2\\nvalue = [0, 2]'),\n",
       " Text(342.4885177453027, 240.32842105263157, 'gini = 0.0\\nsamples = 15\\nvalue = [15, 0]'),\n",
       " Text(356.4676409185804, 263.21684210526314, 'X[6] <= 7.973\\ngini = 0.375\\nsamples = 4\\nvalue = [1, 3]'),\n",
       " Text(351.8079331941545, 240.32842105263157, 'gini = 0.0\\nsamples = 1\\nvalue = [1, 0]'),\n",
       " Text(361.12734864300626, 240.32842105263157, 'gini = 0.0\\nsamples = 3\\nvalue = [0, 3]'),\n",
       " Text(415.5876826722338, 286.10526315789474, 'X[3] <= 9.5\\ngini = 0.157\\nsamples = 163\\nvalue = [149, 14]'),\n",
       " Text(396.0751565762004, 263.21684210526314, 'X[4] <= 2.5\\ngini = 0.48\\nsamples = 5\\nvalue = [3, 2]'),\n",
       " Text(391.41544885177456, 240.32842105263157, 'gini = 0.0\\nsamples = 2\\nvalue = [0, 2]'),\n",
       " Text(400.7348643006263, 240.32842105263157, 'gini = 0.0\\nsamples = 3\\nvalue = [3, 0]'),\n",
       " Text(435.10020876826724, 263.21684210526314, 'X[3] <= 28.5\\ngini = 0.14\\nsamples = 158\\nvalue = [146, 12]'),\n",
       " Text(410.0542797494781, 240.32842105263157, 'X[0] <= 622.0\\ngini = 0.116\\nsamples = 145\\nvalue = [136, 9]'),\n",
       " Text(387.92066805845513, 217.44, 'X[1] <= 2.5\\ngini = 0.052\\nsamples = 75\\nvalue = [73, 2]'),\n",
       " Text(373.94154488517745, 194.55157894736843, 'X[6] <= 13.681\\ngini = 0.165\\nsamples = 11\\nvalue = [10, 1]'),\n",
       " Text(369.2818371607516, 171.66315789473686, 'gini = 0.0\\nsamples = 8\\nvalue = [8, 0]'),\n",
       " Text(378.60125260960336, 171.66315789473686, 'X[3] <= 27.5\\ngini = 0.444\\nsamples = 3\\nvalue = [2, 1]'),\n",
       " Text(373.94154488517745, 148.77473684210526, 'gini = 0.0\\nsamples = 2\\nvalue = [2, 0]'),\n",
       " Text(383.2609603340292, 148.77473684210526, 'gini = 0.0\\nsamples = 1\\nvalue = [0, 1]'),\n",
       " Text(401.89979123173276, 194.55157894736843, 'X[3] <= 21.5\\ngini = 0.031\\nsamples = 64\\nvalue = [63, 1]'),\n",
       " Text(397.2400835073069, 171.66315789473686, 'X[3] <= 20.5\\ngini = 0.124\\nsamples = 15\\nvalue = [14, 1]'),\n",
       " Text(392.580375782881, 148.77473684210526, 'gini = 0.0\\nsamples = 11\\nvalue = [11, 0]'),\n",
       " Text(401.89979123173276, 148.77473684210526, 'X[0] <= 400.5\\ngini = 0.375\\nsamples = 4\\nvalue = [3, 1]'),\n",
       " Text(397.2400835073069, 125.88631578947371, 'gini = 0.0\\nsamples = 1\\nvalue = [0, 1]'),\n",
       " Text(406.5594989561587, 125.88631578947371, 'gini = 0.0\\nsamples = 3\\nvalue = [3, 0]'),\n",
       " Text(406.5594989561587, 171.66315789473686, 'gini = 0.0\\nsamples = 49\\nvalue = [49, 0]'),\n",
       " Text(432.18789144050106, 217.44, 'X[0] <= 623.5\\ngini = 0.18\\nsamples = 70\\nvalue = [63, 7]'),\n",
       " Text(427.52818371607515, 194.55157894736843, 'gini = 0.0\\nsamples = 1\\nvalue = [0, 1]'),\n",
       " Text(436.8475991649269, 194.55157894736843, 'X[0] <= 831.0\\ngini = 0.159\\nsamples = 69\\nvalue = [63, 6]'),\n",
       " Text(432.18789144050106, 171.66315789473686, 'X[0] <= 828.0\\ngini = 0.208\\nsamples = 51\\nvalue = [45, 6]'),\n",
       " Text(427.52818371607515, 148.77473684210526, 'X[0] <= 800.0\\ngini = 0.18\\nsamples = 50\\nvalue = [45, 5]'),\n",
       " Text(415.87891440501045, 125.88631578947371, 'X[6] <= 51.698\\ngini = 0.127\\nsamples = 44\\nvalue = [41, 3]'),\n",
       " Text(406.5594989561587, 102.99789473684211, 'X[3] <= 20.5\\ngini = 0.091\\nsamples = 42\\nvalue = [40, 2]'),\n",
       " Text(401.89979123173276, 80.10947368421051, 'X[3] <= 19.5\\ngini = 0.231\\nsamples = 15\\nvalue = [13, 2]'),\n",
       " Text(397.2400835073069, 57.22105263157897, 'gini = 0.0\\nsamples = 10\\nvalue = [10, 0]'),\n",
       " Text(406.5594989561587, 57.22105263157897, 'X[6] <= 8.294\\ngini = 0.48\\nsamples = 5\\nvalue = [3, 2]'),\n",
       " Text(401.89979123173276, 34.33263157894737, 'X[0] <= 653.0\\ngini = 0.444\\nsamples = 3\\nvalue = [1, 2]'),\n",
       " Text(397.2400835073069, 11.444210526315771, 'gini = 0.0\\nsamples = 1\\nvalue = [1, 0]'),\n",
       " Text(406.5594989561587, 11.444210526315771, 'gini = 0.0\\nsamples = 2\\nvalue = [0, 2]'),\n",
       " Text(411.21920668058453, 34.33263157894737, 'gini = 0.0\\nsamples = 2\\nvalue = [2, 0]'),\n",
       " Text(411.21920668058453, 80.10947368421051, 'gini = 0.0\\nsamples = 27\\nvalue = [27, 0]'),\n",
       " Text(425.1983298538622, 102.99789473684211, 'X[4] <= 1.0\\ngini = 0.5\\nsamples = 2\\nvalue = [1, 1]'),\n",
       " Text(420.5386221294363, 80.10947368421051, 'gini = 0.0\\nsamples = 1\\nvalue = [0, 1]'),\n",
       " Text(429.85803757828813, 80.10947368421051, 'gini = 0.0\\nsamples = 1\\nvalue = [1, 0]'),\n",
       " Text(439.1774530271399, 125.88631578947371, 'X[0] <= 808.0\\ngini = 0.444\\nsamples = 6\\nvalue = [4, 2]'),\n",
       " Text(434.517745302714, 102.99789473684211, 'gini = 0.0\\nsamples = 1\\nvalue = [0, 1]'),\n",
       " Text(443.83716075156576, 102.99789473684211, 'X[6] <= 8.275\\ngini = 0.32\\nsamples = 5\\nvalue = [4, 1]'),\n",
       " Text(439.1774530271399, 80.10947368421051, 'gini = 0.0\\nsamples = 2\\nvalue = [2, 0]'),\n",
       " Text(448.4968684759917, 80.10947368421051, 'X[6] <= 18.281\\ngini = 0.444\\nsamples = 3\\nvalue = [2, 1]'),\n",
       " Text(443.83716075156576, 57.22105263157897, 'gini = 0.0\\nsamples = 1\\nvalue = [0, 1]'),\n",
       " Text(453.15657620041753, 57.22105263157897, 'gini = 0.0\\nsamples = 2\\nvalue = [2, 0]'),\n",
       " Text(436.8475991649269, 148.77473684210526, 'gini = 0.0\\nsamples = 1\\nvalue = [0, 1]'),\n",
       " Text(441.50730688935283, 171.66315789473686, 'gini = 0.0\\nsamples = 18\\nvalue = [18, 0]'),\n",
       " Text(460.1461377870564, 240.32842105263157, 'X[3] <= 29.5\\ngini = 0.355\\nsamples = 13\\nvalue = [10, 3]'),\n",
       " Text(450.8267223382046, 217.44, 'X[4] <= 0.5\\ngini = 0.5\\nsamples = 4\\nvalue = [2, 2]'),\n",
       " Text(446.1670146137787, 194.55157894736843, 'gini = 0.0\\nsamples = 2\\nvalue = [0, 2]'),\n",
       " Text(455.48643006263046, 194.55157894736843, 'gini = 0.0\\nsamples = 2\\nvalue = [2, 0]'),\n",
       " Text(469.46555323590815, 217.44, 'X[6] <= 11.75\\ngini = 0.198\\nsamples = 9\\nvalue = [8, 1]'),\n",
       " Text(464.80584551148223, 194.55157894736843, 'gini = 0.0\\nsamples = 5\\nvalue = [5, 0]'),\n",
       " Text(474.12526096033406, 194.55157894736843, 'X[0] <= 656.0\\ngini = 0.375\\nsamples = 4\\nvalue = [3, 1]'),\n",
       " Text(469.46555323590815, 171.66315789473686, 'gini = 0.0\\nsamples = 2\\nvalue = [2, 0]'),\n",
       " Text(478.7849686847599, 171.66315789473686, 'X[4] <= 0.5\\ngini = 0.5\\nsamples = 2\\nvalue = [1, 1]'),\n",
       " Text(474.12526096033406, 148.77473684210526, 'gini = 0.0\\nsamples = 1\\nvalue = [0, 1]'),\n",
       " Text(483.44467640918583, 148.77473684210526, 'gini = 0.0\\nsamples = 1\\nvalue = [1, 0]'),\n",
       " Text(488.1043841336117, 308.99368421052634, 'X[1] <= 2.5\\ngini = 0.5\\nsamples = 10\\nvalue = [5, 5]'),\n",
       " Text(483.44467640918583, 286.10526315789474, 'gini = 0.0\\nsamples = 2\\nvalue = [2, 0]'),\n",
       " Text(492.7640918580376, 286.10526315789474, 'X[6] <= 7.802\\ngini = 0.469\\nsamples = 8\\nvalue = [3, 5]'),\n",
       " Text(488.1043841336117, 263.21684210526314, 'gini = 0.0\\nsamples = 1\\nvalue = [1, 0]'),\n",
       " Text(497.42379958246346, 263.21684210526314, 'X[6] <= 32.429\\ngini = 0.408\\nsamples = 7\\nvalue = [2, 5]'),\n",
       " Text(492.7640918580376, 240.32842105263157, 'X[6] <= 8.206\\ngini = 0.48\\nsamples = 5\\nvalue = [2, 3]'),\n",
       " Text(488.1043841336117, 217.44, 'X[0] <= 406.5\\ngini = 0.375\\nsamples = 4\\nvalue = [1, 3]'),\n",
       " Text(483.44467640918583, 194.55157894736843, 'gini = 0.0\\nsamples = 1\\nvalue = [1, 0]'),\n",
       " Text(492.7640918580376, 194.55157894736843, 'gini = 0.0\\nsamples = 3\\nvalue = [0, 3]'),\n",
       " Text(497.42379958246346, 217.44, 'gini = 0.0\\nsamples = 1\\nvalue = [1, 0]'),\n",
       " Text(502.0835073068894, 240.32842105263157, 'gini = 0.0\\nsamples = 2\\nvalue = [0, 2]'),\n",
       " Text(539.3611691022965, 331.8821052631579, 'X[3] <= 61.5\\ngini = 0.087\\nsamples = 88\\nvalue = [84, 4]'),\n",
       " Text(530.0417536534446, 308.99368421052634, 'X[0] <= 433.0\\ngini = 0.07\\nsamples = 83\\nvalue = [80, 3]'),\n",
       " Text(525.3820459290188, 286.10526315789474, 'X[0] <= 399.5\\ngini = 0.142\\nsamples = 39\\nvalue = [36, 3]'),\n",
       " Text(516.0626304801671, 263.21684210526314, 'X[0] <= 287.5\\ngini = 0.054\\nsamples = 36\\nvalue = [35, 1]'),\n",
       " Text(511.40292275574114, 240.32842105263157, 'gini = 0.0\\nsamples = 27\\nvalue = [27, 0]'),\n",
       " Text(520.7223382045929, 240.32842105263157, 'X[0] <= 291.0\\ngini = 0.198\\nsamples = 9\\nvalue = [8, 1]'),\n",
       " Text(516.0626304801671, 217.44, 'gini = 0.0\\nsamples = 1\\nvalue = [0, 1]'),\n",
       " Text(525.3820459290188, 217.44, 'gini = 0.0\\nsamples = 8\\nvalue = [8, 0]'),\n",
       " Text(534.7014613778706, 263.21684210526314, 'X[3] <= 47.5\\ngini = 0.444\\nsamples = 3\\nvalue = [1, 2]'),\n",
       " Text(530.0417536534446, 240.32842105263157, 'gini = 0.0\\nsamples = 2\\nvalue = [0, 2]'),\n",
       " Text(539.3611691022965, 240.32842105263157, 'gini = 0.0\\nsamples = 1\\nvalue = [1, 0]'),\n",
       " Text(534.7014613778706, 286.10526315789474, 'gini = 0.0\\nsamples = 44\\nvalue = [44, 0]'),\n",
       " Text(548.6805845511483, 308.99368421052634, 'X[3] <= 63.5\\ngini = 0.32\\nsamples = 5\\nvalue = [4, 1]'),\n",
       " Text(544.0208768267223, 286.10526315789474, 'gini = 0.0\\nsamples = 1\\nvalue = [0, 1]'),\n",
       " Text(553.3402922755741, 286.10526315789474, 'gini = 0.0\\nsamples = 4\\nvalue = [4, 0]')]"
      ]
     },
     "execution_count": 66,
     "metadata": {},
     "output_type": "execute_result"
    },
    {
     "data": {
      "image/png": "[encoded data removed]",
      "text/plain": [
       "<Figure size 720x576 with 1 Axes>"
      ]
     },
     "metadata": {
      "needs_background": "light"
     },
     "output_type": "display_data"
    }
   ],
   "source": [
    "from sklearn import tree\n",
    "plt.figure(figsize=(10, 8))\n",
    "tree.plot_tree(clf)"
   ]
  },
  {
   "cell_type": "code",
   "execution_count": 68,
   "metadata": {},
   "outputs": [],
   "source": [
    "dtree = tree.DecisionTreeClassifier(criterion=\"gini\",splitter = 'random', max_leaf_nodes=10, min_samples_leaf = 5, max_depth=5)"
   ]
  },
  {
   "cell_type": "code",
   "execution_count": 71,
   "metadata": {},
   "outputs": [
    {
     "name": "stdout",
     "output_type": "stream",
     "text": [
      "score:0.7877094972067039\n"
     ]
    }
   ],
   "source": [
    "clf = dtree.fit(x_train, y_train)   #fitting our model\n",
    "y_pred=dtree.predict(x_test)   # evaluating our model\n",
    "print(\"score:{}\".format(accuracy_score(y_test, y_pred)))"
   ]
  },
  {
   "cell_type": "code",
   "execution_count": null,
   "metadata": {},
   "outputs": [],
   "source": [
    "#Since we are dealing with categorical features (classification problem), the predicted category will be the mode of the categories on the elaf node, \n",
    "#in other words, a test sample that reaches this node has the highest probability of belonging to the class of the chosen\n",
    "#node \n",
    "#Also the one with the least value of Gini, the better"
   ]
  },
  {
   "cell_type": "code",
   "execution_count": 72,
   "metadata": {},
   "outputs": [],
   "source": [
    "#Random Forest\n",
    "from sklearn import datasets\n",
    "import pandas as pd\n",
    "from sklearn.model_selection import train_test_split\n",
    "from sklearn.ensemble import RandomForestClassifier #Importing Random Forest Classifier\n",
    "from sklearn import metrics  # Importing metrics to test accuracy"
   ]
  },
  {
   "cell_type": "code",
   "execution_count": 75,
   "metadata": {},
   "outputs": [
    {
     "name": "stdout",
     "output_type": "stream",
     "text": [
      "Accuracy: 0.8379888268156425\n"
     ]
    }
   ],
   "source": [
    "clf=RandomForestClassifier(n_estimators=10)  #Creating a random forest with 100 decision trees\n",
    "clf.fit(x_train, y_train)  #Training our model\n",
    "y_pred=clf.predict(x_test)  #testing our model\n",
    "print(\"Accuracy:\", metrics.accuracy_score(y_test, y_pred))  #Measuring the accuracy of our model"
   ]
  },
  {
   "cell_type": "code",
   "execution_count": null,
   "metadata": {},
   "outputs": [],
   "source": [
    "from sklearn import tree\n",
    "plt.figure(figsize=(10, 8))\n",
    "tree.plot_tree(clf)"
   ]
  },
  {
   "cell_type": "code",
   "execution_count": null,
   "metadata": {},
   "outputs": [],
   "source": [
    "#The Random Forest Algorithm gave more accurate results"
   ]
  }
 ],
 "metadata": {
  "kernelspec": {
   "display_name": "Python 3",
   "language": "python",
   "name": "python3"
  },
  "language_info": {
   "codemirror_mode": {
    "name": "ipython",
    "version": 3
   },
   "file_extension": ".py",
   "mimetype": "text/x-python",
   "name": "python",
   "nbconvert_exporter": "python",
   "pygments_lexer": "ipython3",
   "version": "3.8.5"
  }
 },
 "nbformat": 4,
 "nbformat_minor": 4
}
